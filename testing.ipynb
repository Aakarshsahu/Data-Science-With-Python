{
 "cells": [
  {
   "cell_type": "code",
   "execution_count": 1,
   "id": "b089c7b1",
   "metadata": {},
   "outputs": [
    {
     "name": "stdout",
     "output_type": "stream",
     "text": [
      "[[1 4 3 7]\n",
      " [2 0 0 2]\n",
      " [1 4 3 4]\n",
      " [1 4 3 2]]\n",
      "False\n",
      "True\n",
      "False\n",
      "False\n"
     ]
    }
   ],
   "source": [
    "# write a code to check whether a numpy array contains a specified row\n",
    "import numpy \n",
    "arr = numpy.array([[1,4,3,7],\n",
    "\t\t\t\t[2,0,0,2],\n",
    "\t\t\t\t[1,4,3,4],\n",
    "\t\t\t\t[1,4,3,2]])\n",
    "print(arr)\n",
    "print([1, 2, 3] in arr.tolist())\n",
    "print([1,4,3,7] in arr.tolist())\n",
    "print([3, 2,4, 5] in arr.tolist())\n",
    "print([2,0,0,3] in arr.tolist())"
   ]
  },
  {
   "cell_type": "code",
   "execution_count": 3,
   "id": "712fce30",
   "metadata": {},
   "outputs": [
    {
     "name": "stdout",
     "output_type": "stream",
     "text": [
      "      name  Math_marks  English_marks Result\n",
      "1  Aakarsh          98             90   pass\n",
      "2   Rishav          85             80   pass\n",
      "3   jagdev          70             60   pass\n",
      "4     Aman          75             50   sup.\n",
      "5   chintu          65             65   sup.\n"
     ]
    }
   ],
   "source": [
    "#Write a Pandas program to create and display a DataFrame from a specified dictionary data which has the index labels.\n",
    "import pandas as pd\n",
    "import numpy as np\n",
    "\n",
    "exam_data  = {'name': [\"Aakarsh\",\"Rishav\",\"jagdev\",\"Aman\",\"chintu\"],\n",
    "        'Math_marks': [98,85,70,75,65],\n",
    "        'English_marks': [90,80,60,50,65],\n",
    "        'Result': [\"pass\",\"pass\",\"pass\",\"sup.\",\"sup.\"]}\n",
    "indexs = [1,2,3,4,5]\n",
    "\n",
    "df = pd.DataFrame(exam_data , index=indexs)\n",
    "print(df)"
   ]
  },
  {
   "cell_type": "code",
   "execution_count": 4,
   "id": "ece65265",
   "metadata": {},
   "outputs": [
    {
     "name": "stdout",
     "output_type": "stream",
     "text": [
      "  Students  Marks\n",
      "0  Aakarsh     95\n",
      "1   Rishav     85\n",
      "2   Jagdev     70\n"
     ]
    }
   ],
   "source": [
    "#write a pandas code to create dataframe from dictionary of narray/list\n",
    "import pandas as pd\n",
    "data = {'Students':[\"Aakarsh\",\"Rishav\",\"Jagdev\"],\n",
    "        'Marks':[95,85,70]}\n",
    "df = pd.DataFrame(data)\n",
    "print(df )"
   ]
  },
  {
   "cell_type": "code",
   "execution_count": 5,
   "id": "050458d2",
   "metadata": {},
   "outputs": [
    {
     "name": "stdout",
     "output_type": "stream",
     "text": [
      "      Name  Age\n",
      "0  Aakarsh   20\n",
      "1   Rishav   19\n",
      "2   jagdev   21\n"
     ]
    }
   ],
   "source": [
    "#write a pandas code to create pandas dataframe using list of lists\n",
    "import pandas as pd\n",
    "data = [['Aakarsh', 20], ['Rishav', 19], ['jagdev', 21]]\n",
    "df = pd.DataFrame(data, columns = ['Name', 'Age'])\n",
    "print(df )"
   ]
  },
  {
   "cell_type": "code",
   "execution_count": null,
   "id": "09ba97af",
   "metadata": {},
   "outputs": [],
   "source": [
    "#write a code to combine a one and a two dimentional numpy array\n",
    "import numpy as np\n",
    "x = np.arange(4)\n",
    "print(\"One dimensional array:\")\n",
    "print(x)\n",
    "y = np.arange(8).reshape(2,4)\n",
    "print(\"Two dimensional array:\")\n",
    "print(y)\n",
    "for a, b in np.nditer([x,y]):\n",
    "    print(\"%d:%d\" % (a,b),)"
   ]
  }
 ],
 "metadata": {
  "kernelspec": {
   "display_name": "Python 3 (ipykernel)",
   "language": "python",
   "name": "python3"
  },
  "language_info": {
   "codemirror_mode": {
    "name": "ipython",
    "version": 3
   },
   "file_extension": ".py",
   "mimetype": "text/x-python",
   "name": "python",
   "nbconvert_exporter": "python",
   "pygments_lexer": "ipython3",
   "version": "3.9.7"
  }
 },
 "nbformat": 4,
 "nbformat_minor": 5
}
